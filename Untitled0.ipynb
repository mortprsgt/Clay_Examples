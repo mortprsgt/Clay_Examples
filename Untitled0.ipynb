{
 "metadata": {
  "name": "",
  "signature": "sha256:108c1e9f694535e389108f252586a2b5f085c8070a84f54ce39553fa8f101d2c"
 },
 "nbformat": 3,
 "nbformat_minor": 0,
 "worksheets": [
  {
   "cells": [
    {
     "cell_type": "code",
     "collapsed": false,
     "input": [
      "\n",
      "# (New!) To communicate with Plotly's server, sign in with credentials file\n",
      "import plotly.plotly as py  \n",
      "\n",
      "# (NEW!) Useful Python/Plotly tools\n",
      "import plotly.tools as tls   \n",
      "\n",
      "# (NEW!) Objects to piece together plots\n",
      "from plotly.graph_objs import Data, Layout, Figure\n",
      "\n",
      "import numpy as np  # numpy for math functions and arrays"
     ],
     "language": "python",
     "metadata": {},
     "outputs": [],
     "prompt_number": 1
    },
    {
     "cell_type": "code",
     "collapsed": false,
     "input": [
      "tls.get_credentials_file()\n"
     ],
     "language": "python",
     "metadata": {},
     "outputs": [
      {
       "metadata": {},
       "output_type": "pyout",
       "prompt_number": 2,
       "text": [
        "{u'api_key': u'tcm381s39s',\n",
        " u'stream_ids': [u'2ytyvxv254', u'oqufjsp6dc', u'nvyjbdzuek', u'pstw3qmwq8'],\n",
        " u'username': u'Mortprsgt'}"
       ]
      }
     ],
     "prompt_number": 2
    }
   ],
   "metadata": {}
  }
 ]
}