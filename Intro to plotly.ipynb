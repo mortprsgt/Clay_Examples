{
 "metadata": {
  "name": "",
  "signature": "sha256:57f32650de31b2ecd2163af25820b989b4f2aea6014471a9ea00c91d0d07d780"
 },
 "nbformat": 3,
 "nbformat_minor": 0,
 "worksheets": [
  {
   "cells": [
    {
     "cell_type": "code",
     "collapsed": false,
     "input": [
      "import plotly\n",
      "print plotly.__version__"
     ],
     "language": "python",
     "metadata": {},
     "outputs": [
      {
       "output_type": "stream",
       "stream": "stdout",
       "text": [
        "1.0.20\n"
       ]
      }
     ],
     "prompt_number": 6
    },
    {
     "cell_type": "code",
     "collapsed": false,
     "input": [
      "import plotly.plotly as py\n",
      "import plotly.tools as tls\n",
      "import numpy as np\n",
      "tls.set_credentials_file(username=\"Mortprsgt\", api_key=\"tcm381s39s\")\n"
     ],
     "language": "python",
     "metadata": {},
     "outputs": [],
     "prompt_number": 7
    },
    {
     "cell_type": "code",
     "collapsed": false,
     "input": [
      "# Two lists of numbers\n",
      "my_x0 = np.array([1,2,3,5,6])\n",
      "my_y0 = np.array([1,4.5,7,24,38])\n",
      "\n",
      "# Make dictionary linking x and y coordinate lists to 'x' and 'y' keys\n",
      "#  (mandatory in plotly v.1.0.8 and up)\n",
      "my_trace = dict(x=my_x0, y=my_y0)\n",
      "\n",
      "# Make list of 1 trace, to be sent to Plotly\n",
      "#  (mandatory in 1.0.8 and up)\n",
      "my_data = [my_trace]"
     ],
     "language": "python",
     "metadata": {},
     "outputs": [],
     "prompt_number": 8
    },
    {
     "cell_type": "code",
     "collapsed": false,
     "input": [
      "# Call the plot() function of the plotly.plotly submodule,\n",
      "#  save figure as 's0_first_plot'\n",
      "py.plot(my_data, filename='clays_first_plot')"
     ],
     "language": "python",
     "metadata": {},
     "outputs": [
      {
       "output_type": "stream",
       "stream": "stdout",
       "text": [
        "High five! You successfuly sent some data to your account on plotly. View your plot in your browser at https://plot.ly/~Mortprsgt/0 or inside your plot.ly account where it is named 'clays_first_plot'\n"
       ]
      },
      {
       "metadata": {},
       "output_type": "pyout",
       "prompt_number": 9,
       "text": [
        "u'https://plot.ly/~Mortprsgt/0'"
       ]
      }
     ],
     "prompt_number": 9
    },
    {
     "cell_type": "code",
     "collapsed": false,
     "input": [
      "\n",
      "# Sent data to Plotly and show result in notebook \n",
      "py.iplot(my_data, filename='clays_first_plot')"
     ],
     "language": "python",
     "metadata": {},
     "outputs": [
      {
       "output_type": "stream",
       "stream": "stdout",
       "text": [
        "High five! You successfuly sent some data to your account on plotly. View your plot in your browser at https://plot.ly/~Mortprsgt/0 or inside your plot.ly account where it is named 'clays_first_plot'\n"
       ]
      },
      {
       "html": [
        "<iframe id=\"igraph\" scrolling=\"no\" style=\"border:none;\"seamless=\"seamless\" src=\"https://plot.ly/~Mortprsgt/0\" height=\"525\" width=\"100%\"></iframe>"
       ],
       "metadata": {},
       "output_type": "display_data",
       "text": [
        "<IPython.core.display.HTML at 0x10aa09c10>"
       ]
      }
     ],
     "prompt_number": 10
    },
    {
     "cell_type": "code",
     "collapsed": false,
     "input": [],
     "language": "python",
     "metadata": {},
     "outputs": [],
     "prompt_number": 10
    }
   ],
   "metadata": {}
  }
 ]
}