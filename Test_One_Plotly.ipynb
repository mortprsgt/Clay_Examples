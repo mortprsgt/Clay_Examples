{
 "metadata": {
  "name": "",
  "signature": "sha256:6505dbdeaf20e073d0838eea8a5b86de0cf1ed5bbcc72ce3bc3c9d88e9137a79"
 },
 "nbformat": 3,
 "nbformat_minor": 0,
 "worksheets": [
  {
   "cells": [
    {
     "cell_type": "code",
     "collapsed": false,
     "input": [
      "import plotly.plotly as py\n",
      "import plotly.tools as tls"
     ],
     "language": "python",
     "metadata": {},
     "outputs": [],
     "prompt_number": 1
    },
    {
     "cell_type": "code",
     "collapsed": false,
     "input": [
      "from plotly.graph_objs import Figure, Data, Layout\n",
      "from plotly.graph_objs import Scatter\n",
      "from plotly.graph_objs import YAxis\n",
      "from plotly.graph_objs import Stream  # aka Stream id object"
     ],
     "language": "python",
     "metadata": {},
     "outputs": [],
     "prompt_number": 2
    },
    {
     "cell_type": "code",
     "collapsed": false,
     "input": [
      "import numpy as np\n",
      "import time\n",
      "import datetime"
     ],
     "language": "python",
     "metadata": {},
     "outputs": [],
     "prompt_number": 3
    },
    {
     "cell_type": "code",
     "collapsed": false,
     "input": [
      "# Get stream ids in credentials file\n",
      "my_stream_ids = tls.get_credentials_file()['stream_ids']"
     ],
     "language": "python",
     "metadata": {},
     "outputs": [],
     "prompt_number": 4
    },
    {
     "cell_type": "code",
     "collapsed": false,
     "input": [
      "\n",
      "# Make a first stream id object \n",
      "my_stream_id1 = my_stream_ids[0]         # get a stream token from list\n",
      "my_stream1 = Stream(token=my_stream_id1, # N.B. link stream id to 'token' key\n",
      "                    maxpoints=30)        # N.B. keep maximum of 30 pts on plot\n",
      "\n",
      "# Make a second stream id object\n",
      "my_stream_id2 = my_stream_ids[1]         # get different stream token from list\n",
      "my_stream2 = Stream(token=my_stream_id2, \n",
      "                    maxpoints=30)"
     ],
     "language": "python",
     "metadata": {},
     "outputs": [],
     "prompt_number": 5
    },
    {
     "cell_type": "code",
     "collapsed": false,
     "input": [
      "# Scatter object for sin(x) line\n",
      "my_scatter1 = Scatter(x=[],\n",
      "                      y=[],\n",
      "                      mode='lines+markers',\n",
      "                      name='$y_1 = \\sin(x)$',  # label for legend\n",
      "                      yaxis='y1',         # N.B. link data to y-axis 1\n",
      "                      stream=my_stream1)  # N.B. embed stream id, 1 per trace\n",
      "\n",
      "# Scatter object for sin(2x) line\n",
      "my_scatter2 = Scatter(x=[],\n",
      "                      y=[],\n",
      "                      mode='lines+markers',\n",
      "                      name='$y_2 = \\sin(2x)$',  \n",
      "                      yaxis='y2',         # N.B. link data to y-axis 2\n",
      "                      stream=my_stream2)  # N.B. embed stream id, 1 per trace\n",
      "\n",
      "# Package them into data object\n",
      "my_data = Data([my_scatter1, my_scatter2])"
     ],
     "language": "python",
     "metadata": {},
     "outputs": [],
     "prompt_number": 6
    },
    {
     "cell_type": "code",
     "collapsed": false,
     "input": [
      "# Layout object\n",
      "my_layout = Layout(title='Plotting on shared axes in Real-Time',  # plot's title\n",
      "                   yaxis1= YAxis(domain=[0.0, 0.475], # bottom yaxis domain\n",
      "                                 range=[-1.3,1.3]),       #  and range\n",
      "                   yaxis2= YAxis(domain=[0.525, 1.0], # top yaxis domain\n",
      "                                 range=[-1.3,1.3])       #   and range\n",
      "                  )"
     ],
     "language": "python",
     "metadata": {},
     "outputs": [],
     "prompt_number": 7
    },
    {
     "cell_type": "code",
     "collapsed": false,
     "input": [
      "# Make instance of figure object\n",
      "my_fig = Figure(data=my_data, layout=my_layout)\n",
      "\n",
      "# Initialize streaming plot, show result in notebook\n",
      "py.iplot(my_fig, filename='stream-shared-axis')"
     ],
     "language": "python",
     "metadata": {},
     "outputs": [
      {
       "html": [
        "<iframe id=\"igraph\" scrolling=\"no\" style=\"border:none;\"seamless=\"seamless\" src=\"https://plot.ly/~Mortprsgt/2\" height=\"525\" width=\"100%\"></iframe>"
       ],
       "metadata": {},
       "output_type": "display_data",
       "text": [
        "<IPython.core.display.HTML at 0x10a960f10>"
       ]
      }
     ],
     "prompt_number": 8
    },
    {
     "cell_type": "code",
     "collapsed": false,
     "input": [
      "# Make a first instance of the Stream link object, \n",
      "#  with same stream id as the first Stream id object and open the stream\n",
      "s1 = py.Stream(my_stream_id1)\n",
      "s1.open()\n",
      "\n",
      "# Make a second instance of the Stream link object, \n",
      "#  with same stream id as the second Stream id object and open the stream\n",
      "s2 = py.Stream(my_stream_id2)\n",
      "s2.open()"
     ],
     "language": "python",
     "metadata": {},
     "outputs": [],
     "prompt_number": 9
    },
    {
     "cell_type": "code",
     "collapsed": false,
     "input": [
      "N = 300  # number of sample times\n",
      "i = 0    # init. counter\n",
      "\n",
      "x_start = datetime.datetime.now()  # get time pre-stream\n",
      "\n",
      "while i<N:\n",
      "    \n",
      "    x = datetime.datetime.now()        # get current time\n",
      "    dx = (x - x_start).total_seconds() # delta with pre-stream time\n",
      "    x_str = x.strftime('%H:%M:%S.%f')  # current time as a string\n",
      "    \n",
      "    s1_data = dict(x=x_str, y=np.sin(dx))    # data for stream 1\n",
      "    s2_data = dict(x=x_str, y=np.sin(2*dx))  # data for stream 2\n",
      "\n",
      "    s1.write(s1_data) # send data to stream 1\n",
      "    s2.write(s2_data) # send data to stream 2\n",
      "    \n",
      "    time.sleep(0.08)  # N.B. plot a point every 80 ms, for smoother plotting\n",
      "    \n",
      "    i += 1  # inc. contour\n",
      "    \n",
      "# Close both streams when done\n",
      "s1.close()\n",
      "s2.close()"
     ],
     "language": "python",
     "metadata": {},
     "outputs": [],
     "prompt_number": 10
    },
    {
     "cell_type": "code",
     "collapsed": false,
     "input": [
      "# CSS styling within IPython notebook\n",
      "#from IPython.core.display import HTML\n",
      "#import urllib2\n",
      "#def css_styling():\n",
      "#    url = 'https://raw.githubusercontent.com/plotly/python-user-guide/master/custom.css'\n",
      "#    styles = urllib2.urlopen(url).read()\n",
      "#    return HTML(styles)\n",
      "\n",
      "#css_styling()"
     ],
     "language": "python",
     "metadata": {},
     "outputs": [],
     "prompt_number": 11
    }
   ],
   "metadata": {}
  }
 ]
}