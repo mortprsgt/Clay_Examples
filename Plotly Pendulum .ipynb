{
 "metadata": {
  "name": "",
  "signature": "sha256:5c2a73a4dc1e4e37380d9888c76178cd8db2d5b51c47e98c75378a61b560e02d"
 },
 "nbformat": 3,
 "nbformat_minor": 0,
 "worksheets": [
  {
   "cells": [
    {
     "cell_type": "code",
     "collapsed": false,
     "input": [
      "import plotly\n",
      "plotly.__version__"
     ],
     "language": "python",
     "metadata": {},
     "outputs": [
      {
       "metadata": {},
       "output_type": "pyout",
       "prompt_number": 1,
       "text": [
        "'1.0.20'"
       ]
      }
     ],
     "prompt_number": 1
    },
    {
     "cell_type": "code",
     "collapsed": false,
     "input": [
      "\n",
      "# (New!) To communicate with Plotly's server, sign in with credentials file\n",
      "import plotly.plotly as py  \n",
      "\n",
      "# (NEW!) Useful Python/Plotly tools\n",
      "import plotly.tools as tls   \n",
      "\n",
      "# (NEW!) Objects to piece together plots\n",
      "from plotly.graph_objs import Data, Layout, Figure\n",
      "\n",
      "#%pylab inline\n",
      "import numpy as np"
     ],
     "language": "python",
     "metadata": {},
     "outputs": [],
     "prompt_number": 2
    },
    {
     "cell_type": "code",
     "collapsed": false,
     "input": [
      "stream_ids = tls.get_credentials_file()['stream_ids']\n",
      "#stream_ids = [\"2ytyvxv254\", \"oqufjsp6dc\", \"nvyjbdzuek\", \"pstw3qmwq8\"]"
     ],
     "language": "python",
     "metadata": {},
     "outputs": [],
     "prompt_number": 3
    },
    {
     "cell_type": "code",
     "collapsed": false,
     "input": [
      "# (*) Import a few functions from numpy, for cleaner code\n",
      "from numpy import sin, cos, pi\n",
      "\n",
      "## Define a few constants\n",
      "G =  9.8      # acceleration due to gravity, in m/s^2\n",
      "L1 = 1.0      # length of pendulum 1 in m\n",
      "L2 = 1.0      # length of pendulum 2 in m\n",
      "M1 = 1.0      # mass of pendulum 1 in kg\n",
      "M2 = 1.0      # mass of pendulum 2 in kg\n",
      "rad = pi/180  # radians in 1 deg\n",
      "\n",
      "## Set the initial conditions\n",
      "th1 = 120.0  # th1 and th2 are the initial angles (degrees)\n",
      "th2 = -10.0\n",
      "w1 = 0.0     # w10 and w20 are the initial angular velocities (degrees per second)\n",
      "w2 = 0.0\n",
      "state = np.array([th1, w1, th2, w2])*rad  # initial state array\n",
      "\n",
      "## Time derivatives of each state array variables \n",
      "def derivs(state, t):\n",
      "    dxdt = np.zeros_like(state)   # init. dervative array\n",
      "    del_ = state[2]-state[0]      # difference of angle1 and angle2\n",
      "    \n",
      "    dxdt[0] = state[1]            # derv. of angle1\n",
      "    \n",
      "    den1 = (M1+M2)*L1 - M2*L1*cos(del_)*cos(del_)  # deno. of dxdt[2]\n",
      "    dxdt[1] = (M2*L1*state[1]*state[1]*sin(del_)*cos(del_)\n",
      "               + M2*G*sin(state[2])*cos(del_) \n",
      "               + M2*L2*state[3]*state[3]*sin(del_)\n",
      "               - (M1+M2)*G*sin(state[0]))/den1     # derv. of angular velo.1\n",
      "\n",
      "    dxdt[2] = state[3]  # derv. of angle2\n",
      "\n",
      "    den2 = (L2/L1)*den1  # deno. of dxdt[3]\n",
      "    dxdt[3] = (-M2*L2*state[3]*state[3]*sin(del_)*cos(del_)  \n",
      "               + (M1+M2)*G*sin(state[0])*cos(del_)\n",
      "               - (M1+M2)*L1*state[1]*state[1]*sin(del_)\n",
      "               - (M1+M2)*G*sin(state[2]))/den2   # derv. of angular velo.2\n",
      "\n",
      "    return dxdt  # return time derv. array"
     ],
     "language": "python",
     "metadata": {},
     "outputs": [],
     "prompt_number": 4
    },
    {
     "cell_type": "code",
     "collapsed": false,
     "input": [
      "\n",
      "# (*) Import Stream id object\n",
      "from plotly.graph_objs import Stream"
     ],
     "language": "python",
     "metadata": {},
     "outputs": [],
     "prompt_number": 5
    },
    {
     "cell_type": "code",
     "collapsed": false,
     "input": [
      "\n",
      "# (*) Import a few graph object needed for the following plot\n",
      "from plotly.graph_objs import Scatter, Line, Marker, XAxis, YAxis"
     ],
     "language": "python",
     "metadata": {},
     "outputs": [],
     "prompt_number": 6
    },
    {
     "cell_type": "code",
     "collapsed": false,
     "input": [
      "# Get stream id from stream id list\n",
      "#  and init. 1st scatter obj (the pendulums)\n",
      "my_stream_id1 = stream_ids[0]\n",
      "my_scatter1 = Scatter(x=[], y=[],            # init. data lists\n",
      "                      mode='lines+markers',  # markers at pendulum's nodes, lines in-bt.\n",
      "                      line= Line(opacity=0.8),  # reduce opacity\n",
      "                      marker= Marker(size=12),  # increase marker size\n",
      "                      stream= Stream(token=my_stream_id1)) # N.B. link stream id to 'token'\n",
      "                                                           #   no need to set 'maxpoints',\n",
      "                                                           #   s1 streams lists!\n",
      "\n",
      "# Get different stream id from stream id list\n",
      "#  and init. 2nd scatter obj (path pendulum's bottom node)\n",
      "my_stream_id2 = stream_ids[1]\n",
      "my_scatter2 = Scatter(x=[], y=[],    # init. data lists\n",
      "                      mode='lines',  # path drawn as line\n",
      "                      line= Line(color='rgba(31,119,180,0.15)'),  # light blue line color\n",
      "                      stream= Stream(token=my_stream_id2, # N.B. link stream id to 'token'\n",
      "                                     maxpoints=100))  # plot a max of 100 pts on screen\n",
      "\n",
      "# Make data object made up of the 2 scatter objs\n",
      "my_data = Data([my_scatter1, my_scatter2]) \n",
      "\n",
      "# Make layout with title and set axis ranges\n",
      "my_layout = Layout(title='Double Pendulum Simulation',  # plot's title\n",
      "                   xaxis= XAxis(range=[-2,2]),    # set x-axis range\n",
      "                   yaxis= YAxis(range=[-2,0.5]),  # set y-axis range\n",
      "                   showlegend= False)             # remove legend\n",
      "\n",
      "# Add a few style options to XAxis and YAxis objects\n",
      "my_axes_style = dict(showgrid=False,    # remove grid\n",
      "                     showline=False,    # remove axes lines\n",
      "                     zeroline=False)    # remove x=0 and y=0 lines\n",
      "my_layout['xaxis'].update(my_axes_style)\n",
      "my_layout['yaxis'].update(my_axes_style)\n",
      "    \n",
      "# Make figure object, init. streaming plot, open tab\n",
      "my_fig = Figure(data=my_data, layout=my_layout)\n",
      "unique_url = py.plot(my_fig, filename='s7_streaming-double-pendulum')"
     ],
     "language": "python",
     "metadata": {},
     "outputs": [],
     "prompt_number": 7
    },
    {
     "cell_type": "code",
     "collapsed": false,
     "input": [
      "# Make 1st instance of the Stream link object, \n",
      "#  with same stream id as the 1st Stream id object\n",
      "s1 = py.Stream(my_stream_id1)\n",
      "\n",
      "# Make 2nd instance of the Stream link object, \n",
      "#  with same stream id as the 2nd Stream id object\n",
      "s2 = py.Stream(my_stream_id2)\n",
      "\n",
      "# Open both streams\n",
      "s1.open()\n",
      "s2.open()"
     ],
     "language": "python",
     "metadata": {},
     "outputs": [],
     "prompt_number": 8
    },
    {
     "cell_type": "code",
     "collapsed": false,
     "input": [
      "# (*) Import module to integrate ODE and keep track of time\n",
      "import scipy.integrate as integrate\n",
      "import time\n",
      "\n",
      "N = 2   # number of time integrate.odeint() integrations \n",
      "i = 1   # init. counter\n",
      "\n",
      "time.sleep(5) # N.B. delay start of stream by 5 sec (time to switch tabs)\n",
      "\n",
      "## Solve the system of ODEs N times\n",
      "while i<N:\n",
      "    i += 1                    # add to counter\n",
      "    dt = 0.05                 # create a time array from 0..100  \n",
      "    t = np.arange(0.0,20,dt)  #  sampled at 0.05 second steps (of 400 steps in all)\n",
      "    \n",
      "    y = integrate.odeint(derivs,state,t)  # solve the system of ODEs, for times in t!\n",
      "    \n",
      "    x1 = L1*sin(y[:,0])       # convert angles to x-y coordinates\n",
      "    y1 = -L1*cos(y[:,0])\n",
      "    x2 = L2*sin(y[:,2]) + x1  #   for both pendulums\n",
      "    y2 = -L2*cos(y[:,2]) + y1\n",
      "    \n",
      "    # Write the solutions to Plotly's servers, 1 per stream, 1 point at a time\n",
      "    for (x1i,y1i,x2i,y2i) in zip(x1,y1,x2,y2):\n",
      "        s1.write(dict(x=[0, x1i, x2i], y=[0, y1i, y2i]))  # N.B. list of 3 pendulum nodes\n",
      "        s2.write(dict(x=x2i, y=y2i))                      # N.B. 1 point of path\n",
      "        time.sleep(0.08)  # N.B. plot points 80 ms at a time, for smoother plotting\n",
      "\n",
      "    # Set the new initial state\n",
      "    state = np.array([y[-1,0], y[-1,1], y[-1,2], y[-1,3]])\n",
      "\n",
      "# N.B. Close both streams when done plotting\n",
      "s1.close()\n",
      "s2.close()"
     ],
     "language": "python",
     "metadata": {},
     "outputs": [],
     "prompt_number": 9
    },
    {
     "cell_type": "code",
     "collapsed": false,
     "input": [
      "# Embed never-ending simulation\n",
      "tls.embed('streaming-demos','4')"
     ],
     "language": "python",
     "metadata": {},
     "outputs": [
      {
       "html": [
        "<iframe id=\"igraph\" scrolling=\"no\" style=\"border:none;\"seamless=\"seamless\" src=\"https://plot.ly/~streaming-demos/4\" height=\"525\" width=\"100%\"></iframe>"
       ],
       "metadata": {},
       "output_type": "display_data",
       "text": [
        "<IPython.core.display.HTML at 0x10aa0d450>"
       ]
      }
     ],
     "prompt_number": 10
    }
   ],
   "metadata": {}
  }
 ]
}