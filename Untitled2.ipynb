{
 "metadata": {
  "name": "",
  "signature": "sha256:88652e57881dfb75210e893243ca911bf4d789e08c30d667ec446c4ccdb00d47"
 },
 "nbformat": 3,
 "nbformat_minor": 0,
 "worksheets": []
}