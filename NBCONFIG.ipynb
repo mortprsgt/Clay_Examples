{
 "metadata": {
  "name": "",
  "signature": "sha256:8359bad7cb9b0a32c1436608a573453c96e44f3a8e0833d34275936d4c73a58c"
 },
 "nbformat": 3,
 "nbformat_minor": 0,
 "worksheets": [
  {
   "cells": [
    {
     "cell_type": "markdown",
     "metadata": {},
     "source": [
      "-- <font color='gray'>**Adam Hughes**</font> \n",
      "\n",
      "-- <font color='gray'>**2 / 27 / 2014**</font> \n",
      "\n",
      "-- <font color='gray'>**The George Washington University**</font> "
     ]
    },
    {
     "cell_type": "heading",
     "level": 1,
     "metadata": {},
     "source": [
      "Configuration for notebook style"
     ]
    },
    {
     "cell_type": "markdown",
     "metadata": {},
     "source": [
      "This notebook is intended to be run by other notebooks through the **%run** ipython magic.  The running notebook will then be styled nicely, have the most common pyparty imports, have pre-set figure size and plotting backend (svg), and will suppress logging in certain cases.\n",
      "\n",
      "Figure style should be updated later based on Damon McDougall's blog to reflect journal latex templates (see **Related**)."
     ]
    },
    {
     "cell_type": "code",
     "collapsed": false,
     "input": [
      "%pylab inline"
     ],
     "language": "python",
     "metadata": {},
     "outputs": [
      {
       "output_type": "stream",
       "stream": "stdout",
       "text": [
        "Populating the interactive namespace from numpy and matplotlib\n"
       ]
      }
     ],
     "prompt_number": 2
    },
    {
     "cell_type": "heading",
     "level": 3,
     "metadata": {},
     "source": [
      "Globals for quicker tweaking"
     ]
    },
    {
     "cell_type": "code",
     "collapsed": false,
     "input": [
      "JOURNAL_TEXT = 9\n",
      "\n",
      "# Plotting\n",
      "LABELSIZE = JOURNAL_TEXT +1 #All plot text except legends (recommed JT -1)\n",
      "LEGENDSIZE = LABELSIZE * 1.2\n",
      "\n",
      "# Notebook Style (pyparty style, path or url to .css or None)\n",
      "NBSTYLE = 'gwu'  \n",
      "\n",
      "# Logging\n",
      "HIDE_LOG = True"
     ],
     "language": "python",
     "metadata": {},
     "outputs": [],
     "prompt_number": 3
    },
    {
     "cell_type": "heading",
     "level": 4,
     "metadata": {},
     "source": [
      "Load common pyparty imports"
     ]
    },
    {
     "cell_type": "code",
     "collapsed": false,
     "input": [
      "from __future__ import division\n",
      "# ADD PYUVVIS STUFF\n",
      "#from pyparty import Canvas, splot, showim"
     ],
     "language": "python",
     "metadata": {},
     "outputs": [],
     "prompt_number": 4
    },
    {
     "cell_type": "heading",
     "level": 4,
     "metadata": {},
     "source": [
      "Set notebook style from pyparty.bundled function"
     ]
    },
    {
     "cell_type": "code",
     "collapsed": false,
     "input": [
      "if NBSTYLE:\n",
      "    from pyuvvis.bundled import load_style\n",
      "    load_style(NBSTYLE);"
     ],
     "language": "python",
     "metadata": {},
     "outputs": [
      {
       "ename": "ImportError",
       "evalue": "cannot import name load_style",
       "output_type": "pyerr",
       "traceback": [
        "\u001b[1;31m---------------------------------------------------------------------------\u001b[0m\n\u001b[1;31mImportError\u001b[0m                               Traceback (most recent call last)",
        "\u001b[1;32m<ipython-input-5-8f8bfcce2ae3>\u001b[0m in \u001b[0;36m<module>\u001b[1;34m()\u001b[0m\n\u001b[0;32m      1\u001b[0m \u001b[1;32mif\u001b[0m \u001b[0mNBSTYLE\u001b[0m\u001b[1;33m:\u001b[0m\u001b[1;33m\u001b[0m\u001b[0m\n\u001b[1;32m----> 2\u001b[1;33m     \u001b[1;32mfrom\u001b[0m \u001b[0mpyuvvis\u001b[0m\u001b[1;33m.\u001b[0m\u001b[0mbundled\u001b[0m \u001b[1;32mimport\u001b[0m \u001b[0mload_style\u001b[0m\u001b[1;33m\u001b[0m\u001b[0m\n\u001b[0m\u001b[0;32m      3\u001b[0m     \u001b[0mload_style\u001b[0m\u001b[1;33m(\u001b[0m\u001b[0mNBSTYLE\u001b[0m\u001b[1;33m)\u001b[0m\u001b[1;33m;\u001b[0m\u001b[1;33m\u001b[0m\u001b[0m\n",
        "\u001b[1;31mImportError\u001b[0m: cannot import name load_style"
       ]
      }
     ],
     "prompt_number": 5
    },
    {
     "cell_type": "heading",
     "level": 4,
     "metadata": {},
     "source": [
      "Matplotlib Style settings"
     ]
    },
    {
     "cell_type": "markdown",
     "metadata": {},
     "source": [
      "You can find the matplotlibrc file path via:\n",
      "\n",
      ".. >>> matplotlib.matplotlib_fname()\n",
      "\n",
      "The computer modern font setting is default, so I am happy with it; however, changing the font as done in the commented block below seems to be buggy in the notebook.  I can't change the font or its weight, but the size does seem to change correctly...\n",
      "\n",
      "**Caveats:**\n",
      "- <font color='green'>text.usetex=True</font> requires dvipng and Ghostscript\n",
      "  - sudo apt-get install dvipng && sudo apt-get install ghostscript\n",
      "  - Tex is still rendered, just sized unsually if usetex=False"
     ]
    },
    {
     "cell_type": "code",
     "collapsed": false,
     "input": [
      "from matplotlib import rcParams\n",
      "\n",
      "# # Figure/lines\n",
      "rcParams['figure.figsize'] = (7.3, 4.2) # SET THIS BASED ON LATEX CONSDIERATIONS LATER!\n",
      "rcParams['lines.linewidth'] = 2.0\n",
      "#rcParams['figure.facecolor'] = '0.7' #Plot border, doesn't work\n",
      "\n",
      "# Plot itself\n",
      "rcParams['axes.facecolor'] = '0.75'  # Gray background\n",
      "\n",
      "#Grid\n",
      "#rcParams['axes.grid'] = True   # display grid or not (has no effect)\n",
      "rcParams['grid.color'] = 'white'   # grid color\n",
      "\n",
      "# # Labels\n",
      "rcParams['axes.labelsize'] = LABELSIZE\n",
      "rcParams['xtick.labelsize'] = LABELSIZE\n",
      "rcParams['ytick.labelsize'] = LABELSIZE\n",
      "\n",
      "# # Colors\n",
      "#rcParams['axes.facecolor'] = (1,0,0) #Same as ipython notebook\n",
      "\n",
      "# # Legend\n",
      "rcParams['legend.loc'] = 'upper right'\n",
      "rcParams['legend.fontsize'] = LEGENDSIZE\n",
      "rcParams['legend.fancybox'] = True\n",
      "rcParams['legend.scatterpoints'] = 1  # Draw one scatter point in legend   \n",
      "rcParams['legend.markerscale'] = 1.5 # But make it large\n",
      "\n",
      "# # Font and text\n",
      "rcParams['font.family'] = 'serif'\n",
      "rcParams['font.serif'] = ['Computer Modern']  # Also used by latex (this is default already)\n",
      "#rcParams['font.weight'] = 'bold'  # These don't work\n",
      "#rcParams['font.style'] = 'oblique'\n",
      "rcParams['font.size'] = LABELSIZE     #Matplotlib title, labels\n",
      "\n",
      "# Text and latex\n",
      "rcParams['text.usetex'] = False  # Slight differce in how math symbols; as well as text labeled\n",
      "rcParams['text.color'] = 'black'\n",
      "\n",
      "# # Image\n",
      "rcParams['image.cmap'] = 'gray'  #Default colormap for 1-channel images\n",
      "\n",
      "# #Saving\n",
      "rcParams['savefig.dpi'] = 200\n",
      "rcParams['savefig.format'] = 'png'\n",
      "rcParams['savefig.bbox'] = 'tight' #or standard"
     ],
     "language": "python",
     "metadata": {},
     "outputs": []
    },
    {
     "cell_type": "heading",
     "level": 4,
     "metadata": {},
     "source": [
      "Set default plotting fig size and backend to SVG."
     ]
    },
    {
     "cell_type": "code",
     "collapsed": false,
     "input": [
      "%config InlineBackend.figure_format = 'svg'"
     ],
     "language": "python",
     "metadata": {},
     "outputs": []
    },
    {
     "cell_type": "heading",
     "level": 4,
     "metadata": {},
     "source": [
      "Supress warning from logging in most places"
     ]
    },
    {
     "cell_type": "code",
     "collapsed": false,
     "input": [
      "if HIDE_LOG:\n",
      "    import warnings #supress non-pyparty log msgs\n",
      "    warnings.filterwarnings('ignore') "
     ],
     "language": "python",
     "metadata": {},
     "outputs": []
    },
    {
     "cell_type": "heading",
     "level": 2,
     "metadata": {},
     "source": [
      "Related"
     ]
    },
    {
     "cell_type": "markdown",
     "metadata": {},
     "source": [
      "- **Damon McDougall's**: [Publication-ready the first time: Beautiful, reproducible plots with Matplotlib](http://damon-is-a-geek.com/publication-ready-the-first-time-beautiful-reproducible-plots-with-matplotlib.html)\n",
      "- **Louic's Weblog**: [IPython Notebook Custom CSS](http://blog.louic.nl/?p=683)\n",
      "- **Sandro Tosi**: [Matplotlib for Python Developers: Build Remarkable Publication Quality Plots...](http://books.google.com/books?id=4wMn27KSnTsC&pg=PA101&lpg=PA101&dq=matplotlibrc+font+name+example&source=bl&ots=ZeCABiOv8X&sig=Wsho_P0Nk18LRlzuDQddkJyNiF8&hl=en&sa=X&ei=oNEPU5GYHeHc0QGm7YGQBg&ved=0CDcQ6AEwAjgK#v=onepage&q=matplotlibrc%20font%20name%20example&f=false)"
     ]
    }
   ],
   "metadata": {}
  }
 ]
}